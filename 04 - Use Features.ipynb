{
 "cells": [
  {
   "cell_type": "markdown",
   "id": "f6401954-4df4-45a6-85dd-fa0a8268de42",
   "metadata": {},
   "source": [
    "# Use Features"
   ]
  },
  {
   "cell_type": "code",
   "execution_count": 3,
   "id": "1a27ce32-9da7-44c3-a783-645232d7a725",
   "metadata": {},
   "outputs": [
    {
     "name": "stdout",
     "output_type": "stream",
     "text": [
      "/Users/my-username/EFS\n"
     ]
    }
   ],
   "source": [
    "%cd ~/EFS"
   ]
  },
  {
   "cell_type": "markdown",
   "id": "01509056-1f0d-48ab-81be-1932f708b5c9",
   "metadata": {},
   "source": [
    "## Offline features"
   ]
  },
  {
   "cell_type": "code",
   "execution_count": 5,
   "id": "9a25e002-d9f7-427f-b8f7-d202b8bf64e8",
   "metadata": {},
   "outputs": [
    {
     "name": "stdout",
     "output_type": "stream",
     "text": [
      "   driver_id     event_timestamp  conv_rate  acc_rate  avg_daily_trips\n",
      "0       1002 2023-01-29 07:00:00   0.401458  0.964006               97\n",
      "1       1005 2023-02-05 12:00:00   0.408868  0.896338              488\n",
      "2       1005 2023-01-26 02:00:00   0.934826  0.897346              566\n",
      "3       1003 2023-01-28 11:00:00   0.831310  0.724465              670\n",
      "4       1004 2023-01-27 01:00:00   0.077103  0.071463              197\n"
     ]
    }
   ],
   "source": [
    "from feast import FeatureStore\n",
    "store = FeatureStore(repo_path=\"feature_repo\")\n",
    "training_df = store.get_historical_features(\n",
    "    entity_df=f\"\"\"\n",
    "            SELECT\n",
    "                driver_id,\n",
    "                event_timestamp\n",
    "            FROM EFS_feast_driver_hourly_stats\n",
    "            WHERE event_timestamp BETWEEN (CURRENT_TIMESTAMP - INTERVAL '60' DAY) AND CURRENT_TIMESTAMP\n",
    "        \"\"\",\n",
    "    features=[\n",
    "        \"driver_hourly_stats:conv_rate\",\n",
    "        \"driver_hourly_stats:acc_rate\",\n",
    "        \"driver_hourly_stats:avg_daily_trips\"\n",
    "    ],\n",
    ").to_df()\n",
    "print(training_df.head())"
   ]
  },
  {
   "cell_type": "markdown",
   "id": "37f215d0-2fa5-4b6c-b94e-ff8b704644bb",
   "metadata": {},
   "source": [
    "## Online features"
   ]
  },
  {
   "cell_type": "markdown",
   "id": "9ca8462a-1a8f-4ad2-89f3-fe80fe2f65e9",
   "metadata": {},
   "source": [
    "**To use online features you need to materialize them first:**"
   ]
  },
  {
   "cell_type": "code",
   "execution_count": 12,
   "id": "dceb0eaa-418a-414e-9ca6-a4a26c42a352",
   "metadata": {},
   "outputs": [
    {
     "name": "stdout",
     "output_type": "stream",
     "text": [
      "/Users/my-username/EFS/feature_repo\n"
     ]
    }
   ],
   "source": [
    "%cd ~/EFS/feature_repo"
   ]
  },
  {
   "cell_type": "code",
   "execution_count": 13,
   "id": "2dd8d8e5-ba94-4eb1-bff3-572785ef9215",
   "metadata": {},
   "outputs": [
    {
     "name": "stdout",
     "output_type": "stream",
     "text": [
      "/Users/my-username/opt/anaconda3/lib/python3.9/site-packages/scipy/__init__.py:146: UserWarning: A NumPy version >=1.16.5 and <1.23.0 is required for this version of SciPy (detected version 1.24.2\n",
      "  warnings.warn(f\"A NumPy version >={np_minversion} and <{np_maxversion}\"\n",
      "Materializing \u001b[1m\u001b[32m2\u001b[0m feature views to \u001b[1m\u001b[32m2023-02-09 21:00:47+00:00\u001b[0m into the \u001b[1m\u001b[32mfeast_teradata.online.teradata.TeradataOnlineStore\u001b[0m online store.\n",
      "\n",
      "\u001b[1m\u001b[32mdriver_hourly_stats_fresh\u001b[0m from \u001b[1m\u001b[32m2013-02-21 21:01:02+00:00\u001b[0m to \u001b[1m\u001b[32m2023-02-09 21:00:47+00:00\u001b[0m:\n",
      "/Users/my-username/opt/anaconda3/lib/python3.9/site-packages/teradataml/context/context.py:481: TeradataMlRuntimeWarning: Warning: Password is URL encoded.\n",
      "  warnings.warn(\"Warning: Password is URL encoded.\", category=TeradataMlRuntimeWarning)\n",
      "100%|█████████████████████████████████████████████████████████████████| 5/5 [00:03<00:00,  1.36it/s]\n",
      "\u001b[1m\u001b[32mdriver_hourly_stats\u001b[0m from \u001b[1m\u001b[32m2013-02-21 21:01:20+00:00\u001b[0m to \u001b[1m\u001b[32m2023-02-09 21:00:47+00:00\u001b[0m:\n",
      "100%|█████████████████████████████████████████████████████████████████| 5/5 [00:03<00:00,  1.65it/s]\n"
     ]
    }
   ],
   "source": [
    "!CURRENT_TIME=$(date +'%Y-%m-%dT%H:%M:%S') && feast materialize-incremental $CURRENT_TIME"
   ]
  },
  {
   "cell_type": "markdown",
   "id": "4122311f-bc48-4e49-b2ef-1fc7869287a0",
   "metadata": {},
   "source": [
    "**Then get acc_rate, conv_rate, avg_daily_trips for sample drivers 1001 and 1002:**"
   ]
  },
  {
   "cell_type": "code",
   "execution_count": 14,
   "id": "3e03e7a9-b30d-4971-8f26-63c20ecb2036",
   "metadata": {},
   "outputs": [
    {
     "name": "stdout",
     "output_type": "stream",
     "text": [
      "acc_rate  :  [1.003549575805664, 0.9236539602279663]\n",
      "avg_daily_trips  :  [467, 824]\n",
      "conv_rate  :  [1.0, 0.7620654702186584]\n",
      "driver_id  :  [1001, 1002]\n"
     ]
    }
   ],
   "source": [
    "entity_rows = [\n",
    "        {\n",
    "            \"driver_id\": 1001,\n",
    "        },\n",
    "        {\n",
    "            \"driver_id\": 1002,\n",
    "        },\n",
    "    ]\n",
    "features_to_fetch = [\n",
    "            \"driver_hourly_stats:acc_rate\",\n",
    "            \"driver_hourly_stats:conv_rate\",\n",
    "            \"driver_hourly_stats:avg_daily_trips\"\n",
    "        ]\n",
    "returned_features = store.get_online_features(\n",
    "    features=features_to_fetch,\n",
    "    entity_rows=entity_rows,\n",
    ").to_dict()\n",
    "for key, value in sorted(returned_features.items()):\n",
    "    print(key, \" : \", value)"
   ]
  },
  {
   "cell_type": "code",
   "execution_count": null,
   "id": "b576d979-30f6-41e5-9a63-655f6fc11fe1",
   "metadata": {},
   "outputs": [],
   "source": []
  }
 ],
 "metadata": {
  "kernelspec": {
   "display_name": "Python 3 (ipykernel)",
   "language": "python",
   "name": "python3"
  },
  "language_info": {
   "codemirror_mode": {
    "name": "ipython",
    "version": 3
   },
   "file_extension": ".py",
   "mimetype": "text/x-python",
   "name": "python",
   "nbconvert_exporter": "python",
   "pygments_lexer": "ipython3",
   "version": "3.9.12"
  }
 },
 "nbformat": 4,
 "nbformat_minor": 5
}
