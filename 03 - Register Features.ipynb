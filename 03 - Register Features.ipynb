{
 "cells": [
  {
   "cell_type": "markdown",
   "id": "9afa49c1-635e-4a5b-b9a6-a58d79c1509d",
   "metadata": {},
   "source": [
    "# Register Features"
   ]
  },
  {
   "cell_type": "markdown",
   "id": "71511f90-f957-4ce2-bed4-9317bba08b1e",
   "metadata": {},
   "source": [
    "From within the demo/feature_repo directory, execute the following feast command to **apply (import/update) the repo definition into the registry**. You will be able to see the registry metadata tables in the teradata database after running this command."
   ]
  },
  {
   "cell_type": "code",
   "execution_count": 10,
   "id": "aaa64c0c-7413-4c81-9905-1f10b8df153a",
   "metadata": {},
   "outputs": [
    {
     "name": "stdout",
     "output_type": "stream",
     "text": [
      "/Users/my-username/EFS/feature_repo\n"
     ]
    }
   ],
   "source": [
    "%cd ~/EFS/feature_repo"
   ]
  },
  {
   "cell_type": "code",
   "execution_count": 5,
   "id": "4b8a99df-2b3f-42f0-9b71-41f463a5a57b",
   "metadata": {},
   "outputs": [
    {
     "name": "stdout",
     "output_type": "stream",
     "text": [
      "/Users/my-username/opt/anaconda3/lib/python3.9/site-packages/scipy/__init__.py:146: UserWarning: A NumPy version >=1.16.5 and <1.23.0 is required for this version of SciPy (detected version 1.24.2\n",
      "  warnings.warn(f\"A NumPy version >={np_minversion} and <{np_maxversion}\"\n",
      "/Users/my-username/opt/anaconda3/lib/python3.9/site-packages/feast/feature_store.py:563: RuntimeWarning: On demand feature view is an experimental feature. This API is stable, but the functionality does not scale well for offline retrieval\n",
      "  warnings.warn(\n",
      "Created entity \u001b[1m\u001b[32mdriver\u001b[0m\n",
      "Created feature view \u001b[1m\u001b[32mdriver_hourly_stats_fresh\u001b[0m\n",
      "Created feature view \u001b[1m\u001b[32mdriver_hourly_stats\u001b[0m\n",
      "Created on demand feature view \u001b[1m\u001b[32mtransformed_conv_rate_fresh\u001b[0m\n",
      "Created on demand feature view \u001b[1m\u001b[32mtransformed_conv_rate\u001b[0m\n",
      "Created feature service \u001b[1m\u001b[32mdriver_activity_v3\u001b[0m\n",
      "Created feature service \u001b[1m\u001b[32mdriver_activity_v1\u001b[0m\n",
      "Created feature service \u001b[1m\u001b[32mdriver_activity_v2\u001b[0m\n",
      "\n",
      "/Users/my-username/opt/anaconda3/lib/python3.9/site-packages/feast/feature_store.py:563: RuntimeWarning: On demand feature view is an experimental feature. This API is stable, but the functionality does not scale well for offline retrieval\n",
      "  warnings.warn(\n",
      "/Users/my-username/opt/anaconda3/lib/python3.9/site-packages/teradataml/context/context.py:481: TeradataMlRuntimeWarning: Warning: Password is URL encoded.\n",
      "  warnings.warn(\"Warning: Password is URL encoded.\", category=TeradataMlRuntimeWarning)\n",
      "Deploying infrastructure for \u001b[1m\u001b[32mdriver_hourly_stats_fresh\u001b[0m\n",
      "Deploying infrastructure for \u001b[1m\u001b[32mdriver_hourly_stats\u001b[0m\n"
     ]
    }
   ],
   "source": [
    "!feast apply"
   ]
  },
  {
   "cell_type": "markdown",
   "id": "364601a8-ddae-4cc0-b96c-008316ce0d31",
   "metadata": {},
   "source": [
    "## Check for TD tables of the repo"
   ]
  },
  {
   "cell_type": "code",
   "execution_count": 18,
   "id": "1c28904b-71ef-41a2-a257-5715642c07d3",
   "metadata": {},
   "outputs": [],
   "source": [
    "from teradataml import *"
   ]
  },
  {
   "cell_type": "code",
   "execution_count": 19,
   "id": "9771e8e1-931c-40ae-952b-eb362a8a70dd",
   "metadata": {},
   "outputs": [],
   "source": [
    "#Tools to manipulate in db remote DataFrames\n",
    "from sqlalchemy import *\n",
    "\n",
    "import pandas as pd\n",
    "import numpy as np\n",
    "\n",
    "import getpass as gp"
   ]
  },
  {
   "cell_type": "code",
   "execution_count": 21,
   "id": "5744e9db-b53e-458a-bc07-e857cce45d64",
   "metadata": {},
   "outputs": [],
   "source": [
    "#clean any previous open connection to Vantage\n",
    "try:\n",
    "    remove_context()\n",
    "except Exception: \n",
    "    pass"
   ]
  },
  {
   "cell_type": "code",
   "execution_count": 22,
   "id": "890406e1-f9d4-44e4-a6d1-611405680280",
   "metadata": {},
   "outputs": [
    {
     "name": "stderr",
     "output_type": "stream",
     "text": [
      "/Users/my-username/opt/anaconda3/lib/python3.9/site-packages/teradataml/context/context.py:481: TeradataMlRuntimeWarning: Warning: Password is URL encoded.\n",
      "  warnings.warn(\"Warning: Password is URL encoded.\", category=TeradataMlRuntimeWarning)\n"
     ]
    },
    {
     "data": {
      "text/plain": [
       "Engine(teradatasql://:***@my-server/?DATABASE=my-username&LOGDATA=%2A%2A%2A&LOGMECH=%2A%2A%2A&USER=my-username)"
      ]
     },
     "execution_count": 22,
     "metadata": {},
     "output_type": "execute_result"
    }
   ],
   "source": [
    "Param = {\n",
    "    'host'               : 'my-server', \n",
    "        'user'     : '*********', \n",
    "        'password' : \"********\",\n",
    "    'logmech'            : 'LDAP',\n",
    "    'database'           : '*********'\n",
    "    }\n",
    "\n",
    "create_context(**Param)"
   ]
  },
  {
   "cell_type": "code",
   "execution_count": 23,
   "id": "61f48012-5a90-4711-b58f-798cff65a9c6",
   "metadata": {},
   "outputs": [
    {
     "data": {
      "text/html": [
       "<style type=\"text/css\">\n",
       "\ttable {border:ridge 5px;}\n",
       "\ttable td {border:inset 1px;}\n",
       "\ttable tr#HeaderRow {background-color:grey; color:white;}</style>\n",
       "<html><table>\n",
       "\t<tr id=\"HeaderRow\">\n",
       "\t\t<th>entity_name</th>\n",
       "\t\t<th>project_id</th>\n",
       "\t\t<th>last_updated_timestamp</th>\n",
       "\t\t<th>entity_proto</th>\n",
       "\t</tr>\n",
       "\t<tr>\n",
       "\t\t<td>__dummy</td>\n",
       "\t\t<td>EFS</td>\n",
       "\t\t<td>1675868038</td>\n",
       "\t\t<td>b'A150A075F5F64756D...'</td>\n",
       "\t</tr>\n",
       "\t<tr>\n",
       "\t\t<td>driver</td>\n",
       "\t\t<td>EFS</td>\n",
       "\t\t<td>1675868036</td>\n",
       "\t\t<td>b'A130A066472697665...'</td>\n",
       "\t</tr>\n",
       "</table></html>"
      ],
      "text/plain": [
       "                        last_updated_timestamp             entity_proto\n",
       "entity_name project_id                                                 \n",
       "__dummy     EFS                     1675868038  b'A150A075F5F64756D...'\n",
       "driver      EFS                     1675868036  b'A130A066472697665...'"
      ]
     },
     "execution_count": 23,
     "metadata": {},
     "output_type": "execute_result"
    }
   ],
   "source": [
    "df = DataFrame.from_query(\"select * from entities\")\n",
    "df"
   ]
  },
  {
   "cell_type": "code",
   "execution_count": 24,
   "id": "342bc0f7-ce30-468f-ac2a-a65934a8507b",
   "metadata": {},
   "outputs": [
    {
     "data": {
      "text/html": [
       "<style type=\"text/css\">\n",
       "\ttable {border:ridge 5px;}\n",
       "\ttable td {border:inset 1px;}\n",
       "\ttable tr#HeaderRow {background-color:grey; color:white;}</style>\n",
       "<html><table>\n",
       "\t<tr id=\"HeaderRow\">\n",
       "\t\t<th>feature_view_name</th>\n",
       "\t\t<th>project_id</th>\n",
       "\t\t<th>last_updated_timestamp</th>\n",
       "\t\t<th>materialized_intervals</th>\n",
       "\t\t<th>feature_view_proto</th>\n",
       "\t\t<th>user_metadata</th>\n",
       "\t</tr>\n",
       "\t<tr>\n",
       "\t\t<td>driver_hourly_stats_fresh</td>\n",
       "\t\t<td>EFS</td>\n",
       "\t\t<td>1675976478</td>\n",
       "\t\t<td>None</td>\n",
       "\t\t<td>b'AF8040A1964726976...'</td>\n",
       "\t\t<td>None</td>\n",
       "\t</tr>\n",
       "\t<tr>\n",
       "\t\t<td>driver_hourly_stats</td>\n",
       "\t\t<td>EFS</td>\n",
       "\t\t<td>1675976486</td>\n",
       "\t\t<td>None</td>\n",
       "\t\t<td>b'ADB020A1364726976...'</td>\n",
       "\t\t<td>None</td>\n",
       "\t</tr>\n",
       "</table></html>"
      ],
      "text/plain": [
       "                                      last_updated_timestamp materialized_intervals       feature_view_proto user_metadata\n",
       "feature_view_name         project_id                                                                                      \n",
       "driver_hourly_stats_fresh EFS                     1675976478                   None  b'AF8040A1964726976...'          None\n",
       "driver_hourly_stats       EFS                     1675976486                   None  b'ADB020A1364726976...'          None"
      ]
     },
     "execution_count": 24,
     "metadata": {},
     "output_type": "execute_result"
    }
   ],
   "source": [
    "df = DataFrame.from_query(\"select * from feature_views\")\n",
    "df"
   ]
  },
  {
   "cell_type": "code",
   "execution_count": 30,
   "id": "014eeefd-9a88-4e61-9aaa-272bcbfdabb4",
   "metadata": {},
   "outputs": [
    {
     "data": {
      "text/html": [
       "<style type=\"text/css\">\n",
       "\ttable {border:ridge 5px;}\n",
       "\ttable td {border:inset 1px;}\n",
       "\ttable tr#HeaderRow {background-color:grey; color:white;}</style>\n",
       "<html><table>\n",
       "\t<tr id=\"HeaderRow\">\n",
       "\t\t<th>feature_service_name</th>\n",
       "\t\t<th>project_id</th>\n",
       "\t\t<th>last_updated_timestamp</th>\n",
       "\t\t<th>feature_service_proto</th>\n",
       "\t</tr>\n",
       "\t<tr>\n",
       "\t\t<td>driver_activity_v1</td>\n",
       "\t\t<td>EFS</td>\n",
       "\t\t<td>1675868042</td>\n",
       "\t\t<td>b'A85010A1264726976...'</td>\n",
       "\t</tr>\n",
       "\t<tr>\n",
       "\t\t<td>driver_activity_v3</td>\n",
       "\t\t<td>EFS</td>\n",
       "\t\t<td>1675868040</td>\n",
       "\t\t<td>b'AB4010A1264726976...'</td>\n",
       "\t</tr>\n",
       "\t<tr>\n",
       "\t\t<td>driver_activity_v2</td>\n",
       "\t\t<td>EFS</td>\n",
       "\t\t<td>1675868045</td>\n",
       "\t\t<td>b'AA8010A1264726976...'</td>\n",
       "\t</tr>\n",
       "</table></html>"
      ],
      "text/plain": [
       "                                 last_updated_timestamp    feature_service_proto\n",
       "feature_service_name project_id                                                 \n",
       "driver_activity_v3   EFS                     1675868040  b'AB4010A1264726976...'\n",
       "driver_activity_v1   EFS                     1675868042  b'A85010A1264726976...'\n",
       "driver_activity_v2   EFS                     1675868045  b'AA8010A1264726976...'"
      ]
     },
     "execution_count": 30,
     "metadata": {},
     "output_type": "execute_result"
    }
   ],
   "source": [
    "df = DataFrame.from_query(\"select * from feature_services\")\n",
    "df"
   ]
  },
  {
   "cell_type": "code",
   "execution_count": 31,
   "id": "ed219967-82a8-49ec-adc7-e0cac385af44",
   "metadata": {},
   "outputs": [
    {
     "data": {
      "text/html": [
       "<style type=\"text/css\">\n",
       "\ttable {border:ridge 5px;}\n",
       "\ttable td {border:inset 1px;}\n",
       "\ttable tr#HeaderRow {background-color:grey; color:white;}</style>\n",
       "<html><table>\n",
       "\t<tr id=\"HeaderRow\">\n",
       "\t\t<th>feature_view_name</th>\n",
       "\t\t<th>project_id</th>\n",
       "\t\t<th>last_updated_timestamp</th>\n",
       "\t\t<th>feature_view_proto</th>\n",
       "\t\t<th>user_metadata</th>\n",
       "\t</tr>\n",
       "\t<tr>\n",
       "\t\t<td>transformed_conv_rate_fresh</td>\n",
       "\t\t<td>EFS</td>\n",
       "\t\t<td>1675868029</td>\n",
       "\t\t<td>b'A9B0A0A1B7472616E...'</td>\n",
       "\t\t<td>None</td>\n",
       "\t</tr>\n",
       "\t<tr>\n",
       "\t\t<td>transformed_conv_rate</td>\n",
       "\t\t<td>EFS</td>\n",
       "\t\t<td>1675868031</td>\n",
       "\t\t<td>b'AD0090A157472616E...'</td>\n",
       "\t\t<td>None</td>\n",
       "\t</tr>\n",
       "</table></html>"
      ],
      "text/plain": [
       "                                        last_updated_timestamp       feature_view_proto user_metadata\n",
       "feature_view_name           project_id                                                               \n",
       "transformed_conv_rate       EFS                     1675868031  b'AD0090A157472616E...'          None\n",
       "transformed_conv_rate_fresh EFS                     1675868029  b'A9B0A0A1B7472616E...'          None"
      ]
     },
     "execution_count": 31,
     "metadata": {},
     "output_type": "execute_result"
    }
   ],
   "source": [
    "df = DataFrame.from_query(\"select * from on_demand_feature_views\")\n",
    "df"
   ]
  },
  {
   "cell_type": "markdown",
   "id": "5fae650f-66c4-47be-a0a3-33fbde90d3bd",
   "metadata": {},
   "source": [
    "## Feast UI"
   ]
  },
  {
   "cell_type": "markdown",
   "id": "9a775fa5-25b2-46e4-88fb-f87ec1480b50",
   "metadata": {},
   "source": [
    "To see the registry information in the feast ui, run the following command. \n",
    "\n",
    "**Note**: the --registry_ttl_sec is important as by default it polls every 5 seconds."
   ]
  },
  {
   "cell_type": "markdown",
   "id": "34b37fc8-eeea-4cb1-a293-f66e9231fc5e",
   "metadata": {},
   "source": [
    "**Note**: there's a clash between jupyterlab and feast ui default ports, so you need to explicitly define the port."
   ]
  },
  {
   "cell_type": "code",
   "execution_count": 8,
   "id": "f87b600f-5530-40fa-aa4a-b5709eb5c36e",
   "metadata": {},
   "outputs": [
    {
     "name": "stdout",
     "output_type": "stream",
     "text": [
      "/Users/my-username/opt/anaconda3/lib/python3.9/site-packages/scipy/__init__.py:146: UserWarning: A NumPy version >=1.16.5 and <1.23.0 is required for this version of SciPy (detected version 1.24.2\n",
      "  warnings.warn(f\"A NumPy version >={np_minversion} and <{np_maxversion}\"\n",
      "\u001b[32mINFO\u001b[0m:     Started server process [\u001b[36m37950\u001b[0m]\n",
      "\u001b[32mINFO\u001b[0m:     Waiting for application startup.\n",
      "\u001b[32mINFO\u001b[0m:     Application startup complete.\n",
      "\u001b[32mINFO\u001b[0m:     Uvicorn running on \u001b[1mhttp://0.0.0.0:8080\u001b[0m (Press CTRL+C to quit)\n",
      "\u001b[32mINFO\u001b[0m:     127.0.0.1:55425 - \"\u001b[1mGET / HTTP/1.1\u001b[0m\" \u001b[32m200 OK\u001b[0m\n",
      "\u001b[32mINFO\u001b[0m:     127.0.0.1:55425 - \"\u001b[1mGET /static/js/main.602bc1b5.js HTTP/1.1\u001b[0m\" \u001b[32m200 OK\u001b[0m\n",
      "\u001b[32mINFO\u001b[0m:     127.0.0.1:55427 - \"\u001b[1mGET /static/css/main.4b6d8029.css HTTP/1.1\u001b[0m\" \u001b[32m200 OK\u001b[0m\n",
      "\u001b[32mINFO\u001b[0m:     127.0.0.1:55427 - \"\u001b[1mGET /static/media/feast-icon-grey.e5aa0a305d8efd775c4b.svg HTTP/1.1\u001b[0m\" \u001b[32m200 OK\u001b[0m\n",
      "\u001b[32mINFO\u001b[0m:     127.0.0.1:55425 - \"\u001b[1mGET /projects-list.json HTTP/1.1\u001b[0m\" \u001b[32m200 OK\u001b[0m\n",
      "\u001b[32mINFO\u001b[0m:     127.0.0.1:55425 - \"\u001b[1mGET /static/js/icon.arrow_down.e84dd908.chunk.js HTTP/1.1\u001b[0m\" \u001b[32m200 OK\u001b[0m\n",
      "\u001b[32mINFO\u001b[0m:     127.0.0.1:55425 - \"\u001b[1mGET /registry HTTP/1.1\u001b[0m\" \u001b[32m200 OK\u001b[0m\n",
      "\u001b[32mINFO\u001b[0m:     127.0.0.1:55429 - \"\u001b[1mGET /feast-favicon-36x36.png HTTP/1.1\u001b[0m\" \u001b[32m200 OK\u001b[0m\n",
      "\u001b[32mINFO\u001b[0m:     127.0.0.1:55482 - \"\u001b[1mGET /static/js/icon.search.e95ba469.chunk.js HTTP/1.1\u001b[0m\" \u001b[32m200 OK\u001b[0m\n",
      "\u001b[32mINFO\u001b[0m:     127.0.0.1:55598 - \"\u001b[1mGET /p/EFS/entity HTTP/1.1\u001b[0m\" \u001b[32m200 OK\u001b[0m\n",
      "\u001b[32mINFO\u001b[0m:     127.0.0.1:55598 - \"\u001b[1mGET /projects-list.json HTTP/1.1\u001b[0m\" \u001b[33m304 Not Modified\u001b[0m\n",
      "\u001b[32mINFO\u001b[0m:     127.0.0.1:55598 - \"\u001b[1mGET /registry HTTP/1.1\u001b[0m\" \u001b[32m200 OK\u001b[0m\n",
      "\u001b[32mINFO\u001b[0m:     127.0.0.1:55689 - \"\u001b[1mGET /p/EFS/data-source HTTP/1.1\u001b[0m\" \u001b[32m200 OK\u001b[0m\n",
      "\u001b[32mINFO\u001b[0m:     127.0.0.1:55689 - \"\u001b[1mGET /projects-list.json HTTP/1.1\u001b[0m\" \u001b[33m304 Not Modified\u001b[0m\n",
      "\u001b[32mINFO\u001b[0m:     127.0.0.1:55689 - \"\u001b[1mGET /registry HTTP/1.1\u001b[0m\" \u001b[32m200 OK\u001b[0m\n",
      "\u001b[32mINFO\u001b[0m:     127.0.0.1:55728 - \"\u001b[1mGET /p/EFS/entity/driver HTTP/1.1\u001b[0m\" \u001b[32m200 OK\u001b[0m\n",
      "\u001b[32mINFO\u001b[0m:     127.0.0.1:55728 - \"\u001b[1mGET /projects-list.json HTTP/1.1\u001b[0m\" \u001b[33m304 Not Modified\u001b[0m\n",
      "\u001b[32mINFO\u001b[0m:     127.0.0.1:55728 - \"\u001b[1mGET /registry HTTP/1.1\u001b[0m\" \u001b[32m200 OK\u001b[0m\n",
      "\u001b[32mINFO\u001b[0m:     127.0.0.1:56250 - \"\u001b[1mGET /p/EFS/entity HTTP/1.1\u001b[0m\" \u001b[32m200 OK\u001b[0m\n",
      "\u001b[32mINFO\u001b[0m:     127.0.0.1:56250 - \"\u001b[1mGET /static/js/main.602bc1b5.js HTTP/1.1\u001b[0m\" \u001b[32m200 OK\u001b[0m\n",
      "\u001b[32mINFO\u001b[0m:     127.0.0.1:56251 - \"\u001b[1mGET /static/css/main.4b6d8029.css HTTP/1.1\u001b[0m\" \u001b[32m200 OK\u001b[0m\n",
      "\u001b[32mINFO\u001b[0m:     127.0.0.1:56251 - \"\u001b[1mGET /static/media/feast-icon-grey.e5aa0a305d8efd775c4b.svg HTTP/1.1\u001b[0m\" \u001b[32m200 OK\u001b[0m\n",
      "\u001b[32mINFO\u001b[0m:     127.0.0.1:56250 - \"\u001b[1mGET /projects-list.json HTTP/1.1\u001b[0m\" \u001b[32m200 OK\u001b[0m\n",
      "\u001b[32mINFO\u001b[0m:     127.0.0.1:56250 - \"\u001b[1mGET /static/js/icon.arrow_down.e84dd908.chunk.js HTTP/1.1\u001b[0m\" \u001b[32m200 OK\u001b[0m\n",
      "\u001b[32mINFO\u001b[0m:     127.0.0.1:56250 - \"\u001b[1mGET /registry HTTP/1.1\u001b[0m\" \u001b[32m200 OK\u001b[0m\n",
      "\u001b[32mINFO\u001b[0m:     127.0.0.1:56250 - \"\u001b[1mGET /feast-favicon-36x36.png HTTP/1.1\u001b[0m\" \u001b[32m200 OK\u001b[0m\n",
      "\u001b[32mINFO\u001b[0m:     127.0.0.1:56284 - \"\u001b[1mGET /static/js/icon.search.e95ba469.chunk.js HTTP/1.1\u001b[0m\" \u001b[32m200 OK\u001b[0m\n",
      "\u001b[32mINFO\u001b[0m:     127.0.0.1:56525 - \"\u001b[1mGET /static/js/icon.cross.1e60f51e.chunk.js HTTP/1.1\u001b[0m\" \u001b[32m200 OK\u001b[0m\n",
      "\u001b[32mINFO\u001b[0m:     127.0.0.1:56590 - \"\u001b[1mGET /static/js/icon.return_key.f2b72afe.chunk.js HTTP/1.1\u001b[0m\" \u001b[32m200 OK\u001b[0m\n",
      "^C\n",
      "\u001b[32mINFO\u001b[0m:     Shutting down\n",
      "\u001b[32mINFO\u001b[0m:     Waiting for application shutdown.\n",
      "\u001b[32mINFO\u001b[0m:     Application shutdown complete.\n",
      "\u001b[32mINFO\u001b[0m:     Finished server process [\u001b[36m37950\u001b[0m]\n"
     ]
    }
   ],
   "source": [
    "!feast ui --registry_ttl_sec=120 --port=8080"
   ]
  },
  {
   "cell_type": "raw",
   "id": "245207b7-e65b-468d-8dbf-32035936966c",
   "metadata": {},
   "source": [
    "Usage: feast ui [OPTIONS]\n",
    "\n",
    "Shows the Feast UI over the current directory\n",
    "\n",
    "Options:\n",
    "-h, --host TEXT                 Specify a host for the server [default: 0.0.0.0]\n",
    "-p, --port INTEGER              Specify a port for the server [default: 8888]\n",
    "-r, --registry_ttl_sec INTEGER  Number of seconds after which the registry is refreshed. Default is 5 seconds.\n",
    "--help                          Show this message and exit."
   ]
  },
  {
   "cell_type": "markdown",
   "id": "dd1ac872-c72e-4466-aaaa-e7fd3bcf8db8",
   "metadata": {},
   "source": [
    "![Feast](images/Feast_GUI_01.png)"
   ]
  },
  {
   "cell_type": "markdown",
   "id": "b4f95339-b9c4-40df-8e17-27b4aa03cf6e",
   "metadata": {},
   "source": [
    "![Feast](images/Feast_GUI_03.png)"
   ]
  },
  {
   "cell_type": "markdown",
   "id": "a2f811db-7bf7-4da9-852a-0b36c714e2c6",
   "metadata": {},
   "source": [
    "![Feast](images/Feast_GUI_04.png)"
   ]
  },
  {
   "cell_type": "markdown",
   "id": "5d35d0a6-c7bd-4de7-b7c9-666e76146ed5",
   "metadata": {},
   "source": [
    "Feast UI can be integrated with existing React App. See the gudeline here: https://docs.feast.dev/reference/alpha-web-ui"
   ]
  },
  {
   "cell_type": "code",
   "execution_count": null,
   "id": "d87055e3-803b-41e5-aac7-1391b0999c04",
   "metadata": {},
   "outputs": [],
   "source": []
  }
 ],
 "metadata": {
  "kernelspec": {
   "display_name": "Python 3 (ipykernel)",
   "language": "python",
   "name": "python3"
  },
  "language_info": {
   "codemirror_mode": {
    "name": "ipython",
    "version": 3
   },
   "file_extension": ".py",
   "mimetype": "text/x-python",
   "name": "python",
   "nbconvert_exporter": "python",
   "pygments_lexer": "ipython3",
   "version": "3.9.12"
  }
 },
 "nbformat": 4,
 "nbformat_minor": 5
}
