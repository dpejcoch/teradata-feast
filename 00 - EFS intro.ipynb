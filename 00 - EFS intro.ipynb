{
 "cells": [
  {
   "cell_type": "markdown",
   "id": "3ed7a994-08f4-4253-95b5-6ecba698e527",
   "metadata": {},
   "source": [
    "# Enterprise Feature Store"
   ]
  },
  {
   "cell_type": "markdown",
   "id": "8b322d5b-9a20-46b2-a554-4c8df1975053",
   "metadata": {},
   "source": [
    "## WHAT"
   ]
  },
  {
   "cell_type": "markdown",
   "id": "be79bb90-d13e-4b28-8784-b3d85360acb8",
   "metadata": {},
   "source": [
    "**“EFS is a <u>curated</u>, <u>production-ready</u> store of pre-calculated features, that is model-independent and significantly simplifies the journey from source data to actionable knowledge from advanced analytics by enabling automation and reuse.”**"
   ]
  },
  {
   "cell_type": "markdown",
   "id": "090517e0-b22f-476c-8bc6-b1c9a46bcd69",
   "metadata": {},
   "source": [
    "## WHY"
   ]
  },
  {
   "cell_type": "markdown",
   "id": "ec56839a-135f-4fc5-b857-069f62776ed4",
   "metadata": {},
   "source": [
    "It is generally accepted within the analytics industry that **80% of model development time, is spent preparing data**. Any organization with a long history in Data Management and Analytics will recognize the benefits of the reusability of Data Products. With time to market a key driver behind the deployment of models, one of the key investments a company can make is to deploy an Enterprise Feature Store (EFS)."
   ]
  },
  {
   "cell_type": "markdown",
   "id": "3bb1e357-8650-469d-a343-2f1f7ffa2eb0",
   "metadata": {},
   "source": [
    "### Feature Catalog"
   ]
  },
  {
   "cell_type": "markdown",
   "id": "b719ce1f-a751-499e-9b46-7b94ab4df68e",
   "metadata": {},
   "source": [
    "The goal of a Feature Catalog is to **enable Feature reuse via discovery and governance**. It stores metadata about each Feature and how Features are related to each other. The Feature Catalog is not a Data Catalog and should not be considered a replacement for a general-purpose Data Catalog in an organization. Instead, it should be viewed as providing additional information on a subset of the data in the Data Catalog which is specific to Advanced Analytics users such as Data Scientists. Note that a Feature Catalog is also referred to as a **Feature Registry** in some popular open-source implementations such as Feast."
   ]
  },
  {
   "cell_type": "markdown",
   "id": "2a0179c9-0544-4baf-9899-689d7dd3be1a",
   "metadata": {},
   "source": [
    "### Feature Storage"
   ]
  },
  {
   "cell_type": "markdown",
   "id": "ef98177c-509e-404a-9e9f-c52c73ac8d81",
   "metadata": {},
   "source": [
    "Feature Storage is a place for the **physical storage** of features within the Feature Store. Teradata Vantage is considered as primary storage for EFS. However, any kind of physical storage within Connected Data Store can be used for physical data model implementation (in that case, additional considerations such as the use of QueryGrid / NOS must be taken into account).\n",
    "\n",
    "When considering the massive use of different Remote Features within a single Feature Group, **implications of Query Federation** such as dependency on the availability of source systems must be understood."
   ]
  },
  {
   "cell_type": "markdown",
   "id": "9364a143-50b3-426b-ac88-609ffb756ace",
   "metadata": {},
   "source": [
    "#### Offline store\n",
    "An offline store is **to where features are stored (materialized)**. These features can then be used for analysis or training. Data can both be written and retrieved from an offline store.\n",
    "#### Online store\n",
    "An online store is where features are stored for **low-latency access**. And because they can be quickly retrieved, they make the process of inference faster"
   ]
  },
  {
   "cell_type": "markdown",
   "id": "8e56611f-af66-4349-84d4-2f41bce6c6cb",
   "metadata": {},
   "source": [
    "#### Remote Features\n",
    "Remote Features are physically stored in remote system, registered in Feature Catalog, accessible via Data Virtualization / Query Federation tools such as QueryGrid"
   ]
  },
  {
   "cell_type": "markdown",
   "id": "d81909ea-b2d6-4603-9f04-128ccb4d533e",
   "metadata": {},
   "source": [
    "### SDKs and APIs"
   ]
  },
  {
   "cell_type": "markdown",
   "id": "51f7c7bf-26db-4724-bb82-73894131e668",
   "metadata": {},
   "source": [
    "To provide an **open way to interact and manage the Feature Store**, there should be a set of standard APIs. Additionally, there should be several client SDKs for these APIs to provide programmatic access from multiple programming languages such as Python, R, and SQL (Procedures/UDFs). The SDKs should provide a consistent API for managing the Feature Catalogue (CRUD Operations), for simplifying the reading of training and scoring datasets for Data Scientists, and potentially for managing the actual feature data and data versioning requirements.\n",
    "\n",
    "Example operations are:\n",
    "* Create, Read, Update, Delete Feature Catalogue (Feature/Feature Group Metadata),\n",
    "* Read training features for a specific point in time,\n",
    "* Read scoring features for both batch and real-time."
   ]
  },
  {
   "cell_type": "markdown",
   "id": "d4117463-c71f-442b-a3df-f3a9dd05569e",
   "metadata": {},
   "source": [
    "### Feature Processor"
   ]
  },
  {
   "cell_type": "markdown",
   "id": "71fdc11e-5842-4c67-8715-c1ce716fb078",
   "metadata": {},
   "source": [
    "The role of the Feature Processor is to **interpret the Feature definitions** from the Feature Catalog and process these into the Feature structure called the EFS Master. The EFS Master is a deep narrow table that holds the full history of Features that can be consumed. As part of the process, Features can be pivoted to the form of ADS for training and scoring/serving."
   ]
  },
  {
   "cell_type": "markdown",
   "id": "157491af-aa41-40d7-ab5b-7f8eaa2f3df9",
   "metadata": {},
   "source": [
    "## Feast"
   ]
  },
  {
   "cell_type": "markdown",
   "id": "68972897-81ec-49fe-8847-a7ca85cf431a",
   "metadata": {},
   "source": [
    "Co-created by GO-JEK and Google Cloud, now governed by the Linux Foundation with Tecton as main contributor"
   ]
  },
  {
   "cell_type": "markdown",
   "id": "c5f8db89-c198-49ba-89b4-40179939bffc",
   "metadata": {},
   "source": [
    "... is one of many:"
   ]
  },
  {
   "cell_type": "markdown",
   "id": "ff1b6640-58d4-4353-a8bc-7d577bda7fda",
   "metadata": {},
   "source": [
    "<img src='images/feature_store.png' width='800px'>"
   ]
  },
  {
   "cell_type": "markdown",
   "id": "9930f4b5-b665-4525-a5e3-c429fd3ae839",
   "metadata": {},
   "source": [
    "Comparison: https://mlops.community/learn/feature-store/"
   ]
  },
  {
   "cell_type": "markdown",
   "id": "0a2521d2-4e8d-4467-b2e4-b241e6e5eb20",
   "metadata": {},
   "source": [
    "### Feast Architecture"
   ]
  },
  {
   "cell_type": "markdown",
   "id": "98d25d0e-c96f-4fd7-a020-409767741b08",
   "metadata": {},
   "source": [
    "<img src='images/Feast.png' width='1000px'>"
   ]
  },
  {
   "cell_type": "markdown",
   "id": "9a2a6bfc-1bef-4353-9093-3f3b50288ee9",
   "metadata": {},
   "source": [
    "## Feast Terminology"
   ]
  },
  {
   "cell_type": "markdown",
   "id": "8052dc12-a8fd-4cbd-af2e-e5e47415c76c",
   "metadata": {},
   "source": [
    "### Feature View\n",
    "Feature views contain features that are properties of a specific object. It consists of a Data Source, entities, name, schema, metadata, and a TTL (time-to-live) which limits how far back Feast will look when generating historical datasets.\n",
    "### Data source\n",
    "A Data Source, as the name implies, is **where the feature data is stored**. This can be a parquet file (which is stored locally), a Teradata Vantage platform, a Google Cloud Platform bucket, Snowflake, Amazon Redshift, or an S3 bucket. Feast also allows you to have multiple data sources.\n",
    "### Feature Service\n",
    "Feature Services come into play when you want to create **logically related groups of feature views**. Hence, a feature service is an object that contains features from one or more feature views.\n",
    "### Entity\n",
    "A collection of semantically related features.\n",
    "### Timestamps\n",
    "In the context of Feast, timestamps are used to store the features in chronological order."
   ]
  },
  {
   "cell_type": "markdown",
   "id": "5f1c2d8d-3d4b-4a17-a6d8-22547f557d4b",
   "metadata": {},
   "source": [
    "### Entity -< Data Source(s) == Feature View(s) >- Feature Services"
   ]
  }
 ],
 "metadata": {
  "kernelspec": {
   "display_name": "Python 3 (ipykernel)",
   "language": "python",
   "name": "python3"
  },
  "language_info": {
   "codemirror_mode": {
    "name": "ipython",
    "version": 3
   },
   "file_extension": ".py",
   "mimetype": "text/x-python",
   "name": "python",
   "nbconvert_exporter": "python",
   "pygments_lexer": "ipython3",
   "version": "3.9.7"
  }
 },
 "nbformat": 4,
 "nbformat_minor": 5
}
